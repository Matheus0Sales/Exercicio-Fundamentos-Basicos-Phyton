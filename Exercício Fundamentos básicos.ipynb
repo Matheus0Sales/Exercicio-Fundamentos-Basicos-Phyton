{
 "cells": [
  {
   "cell_type": "markdown",
   "id": "5f4cb559-c4cb-45f9-a563-ccdde38a2262",
   "metadata": {},
   "source": [
    "##Exercícios – Fundamentos de Python\n",
    "\n"
   ]
  },
  {
   "cell_type": "markdown",
   "id": "d1d730d1-e356-4246-894c-affd03710641",
   "metadata": {},
   "source": [
    "#Exercício 1\n"
   ]
  },
  {
   "cell_type": "code",
   "execution_count": 8,
   "id": "ef96be73-07cc-4992-a13b-eb471a0ade22",
   "metadata": {},
   "outputs": [
    {
     "name": "stdout",
     "output_type": "stream",
     "text": [
      "Meu nome é Matheus, tenho 21 anos e minha altura é 1.7 metros.\n"
     ]
    }
   ],
   "source": [
    "nome = \"Matheus\"\n",
    "idade = 21\n",
    "altura = 1.70\n",
    "\n",
    "print(\"Meu nome é {a}, tenho {b} anos e minha altura é {c} metros.\".format(a = nome, b = idade,c = altura))"
   ]
  },
  {
   "cell_type": "markdown",
   "id": "6fdfbb4f-9787-4a93-8208-6bd0f61b9de2",
   "metadata": {},
   "source": [
    "#Exercício 2"
   ]
  },
  {
   "cell_type": "code",
   "execution_count": 13,
   "id": "1b79889a-3fbd-47cc-a692-b7a96ca362df",
   "metadata": {},
   "outputs": [
    {
     "data": {
      "text/plain": [
       "'PHYTON É A UMA LINGUAGEM DE PROGRAMAÇÃO MUITO PODEROSA.'"
      ]
     },
     "execution_count": 13,
     "metadata": {},
     "output_type": "execute_result"
    }
   ],
   "source": [
    "frase = \"Phyton é a uma linguagem de programação muito poderosa.\"\n",
    "frase.upper()"
   ]
  },
  {
   "cell_type": "code",
   "execution_count": 14,
   "id": "e70698d1-5c4e-4eda-b8f1-9d26cede6d58",
   "metadata": {},
   "outputs": [
    {
     "data": {
      "text/plain": [
       "'phyton é a uma linguagem de programação muito poderosa.'"
      ]
     },
     "execution_count": 14,
     "metadata": {},
     "output_type": "execute_result"
    }
   ],
   "source": [
    "frase.lower()"
   ]
  },
  {
   "cell_type": "code",
   "execution_count": 16,
   "id": "408bfcac-c178-4225-9f68-4e6bb38c782d",
   "metadata": {},
   "outputs": [
    {
     "data": {
      "text/plain": [
       "'Phyton é a uma linguagem de programação extremamente poderosa.'"
      ]
     },
     "execution_count": 16,
     "metadata": {},
     "output_type": "execute_result"
    }
   ],
   "source": [
    "frase.replace('muito','extremamente')"
   ]
  },
  {
   "cell_type": "code",
   "execution_count": 17,
   "id": "94f235cf-703a-4144-bd6c-47c52855cecb",
   "metadata": {},
   "outputs": [
    {
     "data": {
      "text/plain": [
       "['Phyton',\n",
       " 'é',\n",
       " 'a',\n",
       " 'uma',\n",
       " 'linguagem',\n",
       " 'de',\n",
       " 'programação',\n",
       " 'muito',\n",
       " 'poderosa.']"
      ]
     },
     "execution_count": 17,
     "metadata": {},
     "output_type": "execute_result"
    }
   ],
   "source": [
    "frase.split()"
   ]
  },
  {
   "cell_type": "markdown",
   "id": "6933f16c-924e-47b0-bd91-034b15b8d179",
   "metadata": {},
   "source": [
    "#Exercício 3"
   ]
  },
  {
   "cell_type": "code",
   "execution_count": 29,
   "id": "36a0d0c3-d734-43a7-bf58-21e320980e50",
   "metadata": {},
   "outputs": [
    {
     "data": {
      "text/plain": [
       "['maçã', 'banana', 'laranja', 'uva', 'abacaxi']"
      ]
     },
     "execution_count": 29,
     "metadata": {},
     "output_type": "execute_result"
    }
   ],
   "source": [
    "frutas = [\"maçã\", \"banana\", \"laranja\", \"uva\", \"abacaxi\"]\n",
    "frutas"
   ]
  },
  {
   "cell_type": "code",
   "execution_count": 30,
   "id": "0e509379-1f67-4df6-8aa5-b79aec2eb00e",
   "metadata": {},
   "outputs": [
    {
     "data": {
      "text/plain": [
       "['maçã', 'banana', 'laranja', 'uva', 'abacaxi', 'manga']"
      ]
     },
     "execution_count": 30,
     "metadata": {},
     "output_type": "execute_result"
    }
   ],
   "source": [
    "frutas.append('manga')\n",
    "frutas"
   ]
  },
  {
   "cell_type": "code",
   "execution_count": 31,
   "id": "db148796-a95c-4217-a56c-bfb2967f8a26",
   "metadata": {},
   "outputs": [
    {
     "data": {
      "text/plain": [
       "['maçã', 'banana', 'uva', 'abacaxi', 'manga']"
      ]
     },
     "execution_count": 31,
     "metadata": {},
     "output_type": "execute_result"
    }
   ],
   "source": [
    "frutas.remove('laranja')\n",
    "frutas"
   ]
  },
  {
   "cell_type": "code",
   "execution_count": 35,
   "id": "e864d2df-7fb6-4108-bfea-87215663b85e",
   "metadata": {},
   "outputs": [
    {
     "data": {
      "text/plain": [
       "['uva']"
      ]
     },
     "execution_count": 35,
     "metadata": {},
     "output_type": "execute_result"
    }
   ],
   "source": [
    "frutas[2:-2]"
   ]
  },
  {
   "cell_type": "code",
   "execution_count": 37,
   "id": "ebe7aaf2-dd6b-4bb4-a162-e4293e3988d3",
   "metadata": {},
   "outputs": [
    {
     "data": {
      "text/plain": [
       "['abacaxi', 'banana', 'manga', 'maçã', 'uva']"
      ]
     },
     "execution_count": 37,
     "metadata": {},
     "output_type": "execute_result"
    }
   ],
   "source": [
    "frutas.sort()\n",
    "frutas"
   ]
  },
  {
   "cell_type": "code",
   "execution_count": 38,
   "id": "443df01e-571e-4d3c-b812-d0abf008f519",
   "metadata": {},
   "outputs": [
    {
     "data": {
      "text/plain": [
       "32"
      ]
     },
     "execution_count": 38,
     "metadata": {},
     "output_type": "execute_result"
    }
   ],
   "source": [
    "numeros = [10,5,8,3,6]\n",
    "sum(numeros)"
   ]
  },
  {
   "cell_type": "markdown",
   "id": "92323031-fd82-423b-911f-9e945b14f0b6",
   "metadata": {},
   "source": [
    "##### Exercício 6"
   ]
  },
  {
   "cell_type": "code",
   "execution_count": 50,
   "id": "c51985ad-0d43-45e3-b3f0-d25f556ec4f9",
   "metadata": {},
   "outputs": [
    {
     "name": "stdout",
     "output_type": "stream",
     "text": [
      "Digite sua altura (em metros): \n"
     ]
    },
    {
     "name": "stdin",
     "output_type": "stream",
     "text": [
      " 1.71\n"
     ]
    },
    {
     "name": "stdout",
     "output_type": "stream",
     "text": [
      "Digite seu peso (em quilos): \n"
     ]
    },
    {
     "name": "stdin",
     "output_type": "stream",
     "text": [
      " 86\n"
     ]
    },
    {
     "name": "stdout",
     "output_type": "stream",
     "text": [
      "Seu IMC é de: 29.410758865975858\n"
     ]
    }
   ],
   "source": [
    "print (\"Digite sua altura (em metros): \")\n",
    "altura = float(input())\n",
    "print (\"Digite seu peso (em quilos): \")\n",
    "peso = float(input())\n",
    "IMC = peso / (altura**2)\n",
    "print (\"Seu IMC é de:\", IMC)"
   ]
  },
  {
   "cell_type": "markdown",
   "id": "cba938bb-d02f-4878-95df-f24c91fe9228",
   "metadata": {},
   "source": [
    "##Exercício 7"
   ]
  },
  {
   "cell_type": "code",
   "execution_count": 68,
   "id": "58d5e936-666f-4df3-afa9-09c7d59d4d57",
   "metadata": {},
   "outputs": [
    {
     "name": "stdout",
     "output_type": "stream",
     "text": [
      "Digite o seu nome completo: \n"
     ]
    },
    {
     "name": "stdin",
     "output_type": "stream",
     "text": [
      " Matheus Sales Inacio da Silva\n"
     ]
    },
    {
     "name": "stdout",
     "output_type": "stream",
     "text": [
      "Olá Matheus. Seja bem-vindo(a)\n"
     ]
    }
   ],
   "source": [
    "print (\"Digite o seu nome completo: \")\n",
    "nome = input()\n",
    "lista_nome = nome.split()\n",
    "print (\"Olá {a}. Seja bem-vindo(a)\".format (a = lista_nome[0]))"
   ]
  },
  {
   "cell_type": "markdown",
   "id": "78282f0e-f372-4cdc-a680-2cd64d9131f6",
   "metadata": {},
   "source": [
    "##Exercício 8"
   ]
  },
  {
   "cell_type": "code",
   "execution_count": 7,
   "id": "bbe979b1-be39-406b-86bf-9231477d6978",
   "metadata": {},
   "outputs": [
    {
     "name": "stdout",
     "output_type": "stream",
     "text": [
      "Digite o seu email: \n"
     ]
    },
    {
     "name": "stdin",
     "output_type": "stream",
     "text": [
      " matheusinacio325@gmail.com\n"
     ]
    },
    {
     "name": "stdout",
     "output_type": "stream",
     "text": [
      "Domínio do email informado: gmail.com\n"
     ]
    }
   ],
   "source": [
    "print (\"Digite o seu email: \")\n",
    "email = input()\n",
    "lista_email = email.split('@')\n",
    "print (\"Domínio do email informado:\", lista_email[1])"
   ]
  },
  {
   "cell_type": "code",
   "execution_count": null,
   "id": "5fe95756-d5b7-424e-8d48-6b22af4dde00",
   "metadata": {},
   "outputs": [],
   "source": []
  },
  {
   "cell_type": "code",
   "execution_count": null,
   "id": "716b8fcf-d0b6-4099-a683-dcfc0733d752",
   "metadata": {},
   "outputs": [],
   "source": []
  },
  {
   "cell_type": "code",
   "execution_count": null,
   "id": "77278061-a380-4475-b5b0-3bedd8a7f2a4",
   "metadata": {},
   "outputs": [],
   "source": []
  },
  {
   "cell_type": "code",
   "execution_count": null,
   "id": "3695f685-7fb1-4cb9-a183-fa3880c2ac5c",
   "metadata": {},
   "outputs": [],
   "source": []
  },
  {
   "cell_type": "code",
   "execution_count": null,
   "id": "d3bfa111-f46f-401c-a696-bbf46fac965b",
   "metadata": {},
   "outputs": [],
   "source": []
  },
  {
   "cell_type": "code",
   "execution_count": null,
   "id": "827bce28-d4ab-4bba-8a33-1c8476b29978",
   "metadata": {},
   "outputs": [],
   "source": []
  }
 ],
 "metadata": {
  "kernelspec": {
   "display_name": "Python 3 (ipykernel)",
   "language": "python",
   "name": "python3"
  },
  "language_info": {
   "codemirror_mode": {
    "name": "ipython",
    "version": 3
   },
   "file_extension": ".py",
   "mimetype": "text/x-python",
   "name": "python",
   "nbconvert_exporter": "python",
   "pygments_lexer": "ipython3",
   "version": "3.12.7"
  }
 },
 "nbformat": 4,
 "nbformat_minor": 5
}
