{
 "cells": [
  {
   "cell_type": "markdown",
   "id": "5f4cb559-c4cb-45f9-a563-ccdde38a2262",
   "metadata": {},
   "source": [
    "##Exercícios – Fundamentos de Python\n",
    "\n"
   ]
  },
  {
   "cell_type": "markdown",
   "id": "d1d730d1-e356-4246-894c-affd03710641",
   "metadata": {},
   "source": [
    "#Exercício 1\n"
   ]
  },
  {
   "cell_type": "code",
   "execution_count": 8,
   "id": "ef96be73-07cc-4992-a13b-eb471a0ade22",
   "metadata": {},
   "outputs": [
    {
     "name": "stdout",
     "output_type": "stream",
     "text": [
      "Meu nome é Matheus, tenho 21 anos e minha altura é 1.7 metros.\n"
     ]
    }
   ],
   "source": [
    "nome = \"Matheus\"\n",
    "idade = 21\n",
    "altura = 1.70\n",
    "\n",
    "print(\"Meu nome é {a}, tenho {b} anos e minha altura é {c} metros.\".format(a = nome, b = idade,c = altura))"
   ]
  },
  {
   "cell_type": "markdown",
   "id": "6fdfbb4f-9787-4a93-8208-6bd0f61b9de2",
   "metadata": {},
   "source": [
    "#Exercício 2"
   ]
  },
  {
   "cell_type": "code",
   "execution_count": 13,
   "id": "1b79889a-3fbd-47cc-a692-b7a96ca362df",
   "metadata": {},
   "outputs": [
    {
     "data": {
      "text/plain": [
       "'PHYTON É A UMA LINGUAGEM DE PROGRAMAÇÃO MUITO PODEROSA.'"
      ]
     },
     "execution_count": 13,
     "metadata": {},
     "output_type": "execute_result"
    }
   ],
   "source": [
    "frase = \"Phyton é a uma linguagem de programação muito poderosa.\"\n",
    "frase.upper()"
   ]
  },
  {
   "cell_type": "code",
   "execution_count": 14,
   "id": "e70698d1-5c4e-4eda-b8f1-9d26cede6d58",
   "metadata": {},
   "outputs": [
    {
     "data": {
      "text/plain": [
       "'phyton é a uma linguagem de programação muito poderosa.'"
      ]
     },
     "execution_count": 14,
     "metadata": {},
     "output_type": "execute_result"
    }
   ],
   "source": [
    "frase.lower()"
   ]
  },
  {
   "cell_type": "code",
   "execution_count": 16,
   "id": "408bfcac-c178-4225-9f68-4e6bb38c782d",
   "metadata": {},
   "outputs": [
    {
     "data": {
      "text/plain": [
       "'Phyton é a uma linguagem de programação extremamente poderosa.'"
      ]
     },
     "execution_count": 16,
     "metadata": {},
     "output_type": "execute_result"
    }
   ],
   "source": [
    "frase.replace('muito','extremamente')"
   ]
  },
  {
   "cell_type": "code",
   "execution_count": 17,
   "id": "94f235cf-703a-4144-bd6c-47c52855cecb",
   "metadata": {},
   "outputs": [
    {
     "data": {
      "text/plain": [
       "['Phyton',\n",
       " 'é',\n",
       " 'a',\n",
       " 'uma',\n",
       " 'linguagem',\n",
       " 'de',\n",
       " 'programação',\n",
       " 'muito',\n",
       " 'poderosa.']"
      ]
     },
     "execution_count": 17,
     "metadata": {},
     "output_type": "execute_result"
    }
   ],
   "source": [
    "frase.split()"
   ]
  },
  {
   "cell_type": "markdown",
   "id": "6933f16c-924e-47b0-bd91-034b15b8d179",
   "metadata": {},
   "source": [
    "#Exercício 3"
   ]
  },
  {
   "cell_type": "code",
   "execution_count": 29,
   "id": "36a0d0c3-d734-43a7-bf58-21e320980e50",
   "metadata": {},
   "outputs": [
    {
     "data": {
      "text/plain": [
       "['maçã', 'banana', 'laranja', 'uva', 'abacaxi']"
      ]
     },
     "execution_count": 29,
     "metadata": {},
     "output_type": "execute_result"
    }
   ],
   "source": [
    "frutas = [\"maçã\", \"banana\", \"laranja\", \"uva\", \"abacaxi\"]\n",
    "frutas"
   ]
  },
  {
   "cell_type": "code",
   "execution_count": 30,
   "id": "0e509379-1f67-4df6-8aa5-b79aec2eb00e",
   "metadata": {},
   "outputs": [
    {
     "data": {
      "text/plain": [
       "['maçã', 'banana', 'laranja', 'uva', 'abacaxi', 'manga']"
      ]
     },
     "execution_count": 30,
     "metadata": {},
     "output_type": "execute_result"
    }
   ],
   "source": [
    "frutas.append('manga')\n",
    "frutas"
   ]
  },
  {
   "cell_type": "code",
   "execution_count": 31,
   "id": "db148796-a95c-4217-a56c-bfb2967f8a26",
   "metadata": {},
   "outputs": [
    {
     "data": {
      "text/plain": [
       "['maçã', 'banana', 'uva', 'abacaxi', 'manga']"
      ]
     },
     "execution_count": 31,
     "metadata": {},
     "output_type": "execute_result"
    }
   ],
   "source": [
    "frutas.remove('laranja')\n",
    "frutas"
   ]
  },
  {
   "cell_type": "code",
   "execution_count": 35,
   "id": "e864d2df-7fb6-4108-bfea-87215663b85e",
   "metadata": {},
   "outputs": [
    {
     "data": {
      "text/plain": [
       "['uva']"
      ]
     },
     "execution_count": 35,
     "metadata": {},
     "output_type": "execute_result"
    }
   ],
   "source": [
    "frutas[2:-2]"
   ]
  },
  {
   "cell_type": "code",
   "execution_count": 37,
   "id": "ebe7aaf2-dd6b-4bb4-a162-e4293e3988d3",
   "metadata": {},
   "outputs": [
    {
     "data": {
      "text/plain": [
       "['abacaxi', 'banana', 'manga', 'maçã', 'uva']"
      ]
     },
     "execution_count": 37,
     "metadata": {},
     "output_type": "execute_result"
    }
   ],
   "source": [
    "frutas.sort()\n",
    "frutas"
   ]
  },
  {
   "cell_type": "code",
   "execution_count": 38,
   "id": "443df01e-571e-4d3c-b812-d0abf008f519",
   "metadata": {},
   "outputs": [
    {
     "data": {
      "text/plain": [
       "32"
      ]
     },
     "execution_count": 38,
     "metadata": {},
     "output_type": "execute_result"
    }
   ],
   "source": [
    "numeros = [10,5,8,3,6]\n",
    "sum(numeros)"
   ]
  },
  {
   "cell_type": "markdown",
   "id": "22171b3d-ceeb-4e66-b837-ee8a765d3d59",
   "metadata": {
    "tags": []
   },
   "source": [
    "###### Exercício 4"
   ]
  },
  {
   "cell_type": "code",
   "execution_count": 3,
   "id": "28bfc2ae-cea2-4855-a333-14d1ac166bf5",
   "metadata": {
    "tags": []
   },
   "outputs": [
    {
     "data": {
      "text/plain": [
       "{'nome': 'Carlos', 'idade': 30, 'cidade': 'São Paulo'}"
      ]
     },
     "execution_count": 3,
     "metadata": {},
     "output_type": "execute_result"
    }
   ],
   "source": [
    "pessoa = {\"nome\": 'Carlos',\"idade\": 30,\"cidade\": 'São Paulo'}\n",
    "pessoa"
   ]
  },
  {
   "cell_type": "code",
   "execution_count": 5,
   "id": "7d7b9c58-09b1-4f60-8d9d-f2fbbbcebe33",
   "metadata": {
    "tags": []
   },
   "outputs": [
    {
     "data": {
      "text/plain": [
       "'Carlos'"
      ]
     },
     "execution_count": 5,
     "metadata": {},
     "output_type": "execute_result"
    }
   ],
   "source": [
    "pessoa[\"nome\"]"
   ]
  },
  {
   "cell_type": "code",
   "execution_count": 7,
   "id": "5f2e6daa-a226-4153-bf50-faa5d1fd52c9",
   "metadata": {
    "tags": []
   },
   "outputs": [
    {
     "data": {
      "text/plain": [
       "{'nome': 'Carlos', 'idade': 31, 'cidade': 'São Paulo'}"
      ]
     },
     "execution_count": 7,
     "metadata": {},
     "output_type": "execute_result"
    }
   ],
   "source": [
    "pessoa[\"idade\"] = 31\n",
    "pessoa\n"
   ]
  },
  {
   "cell_type": "code",
   "execution_count": 10,
   "id": "3d28785f-2646-44bb-8760-2fcdf9f217e3",
   "metadata": {
    "tags": []
   },
   "outputs": [
    {
     "data": {
      "text/plain": [
       "{'nome': 'Carlos',\n",
       " 'idade': 31,\n",
       " 'cidade': 'São Paulo',\n",
       " 'profissão': 'Engenheiro'}"
      ]
     },
     "execution_count": 10,
     "metadata": {},
     "output_type": "execute_result"
    }
   ],
   "source": [
    "pessoa[\"profissão\"] = 'Engenheiro'\n",
    "pessoa"
   ]
  },
  {
   "cell_type": "code",
   "execution_count": 16,
   "id": "f7ec8d66-6b9b-4537-8afc-c1a5fccbf994",
   "metadata": {
    "tags": []
   },
   "outputs": [
    {
     "data": {
      "text/plain": [
       "'São Paulo'"
      ]
     },
     "execution_count": 16,
     "metadata": {},
     "output_type": "execute_result"
    }
   ],
   "source": [
    "pessoa.pop('cidade')"
   ]
  },
  {
   "cell_type": "code",
   "execution_count": 17,
   "id": "7552b673-0e87-44f9-b640-e81d9354ee7b",
   "metadata": {
    "tags": []
   },
   "outputs": [
    {
     "data": {
      "text/plain": [
       "{'nome': 'Carlos', 'idade': 31, 'profissão': 'Engenheiro'}"
      ]
     },
     "execution_count": 17,
     "metadata": {},
     "output_type": "execute_result"
    }
   ],
   "source": [
    "pessoa"
   ]
  },
  {
   "cell_type": "code",
   "execution_count": 18,
   "id": "a41ae830-cc8b-4409-a3a0-8e9fb1d9eb98",
   "metadata": {
    "tags": []
   },
   "outputs": [
    {
     "data": {
      "text/plain": [
       "dict_keys(['nome', 'idade', 'profissão'])"
      ]
     },
     "execution_count": 18,
     "metadata": {},
     "output_type": "execute_result"
    }
   ],
   "source": [
    "pessoa.keys()"
   ]
  },
  {
   "cell_type": "code",
   "execution_count": 19,
   "id": "abf92e14-5403-45e3-b203-1a4c8449e7a2",
   "metadata": {
    "tags": []
   },
   "outputs": [
    {
     "data": {
      "text/plain": [
       "dict_values(['Carlos', 31, 'Engenheiro'])"
      ]
     },
     "execution_count": 19,
     "metadata": {},
     "output_type": "execute_result"
    }
   ],
   "source": [
    "pessoa.values()"
   ]
  },
  {
   "cell_type": "markdown",
   "id": "020458eb-46c8-4850-9097-649f7a21cc36",
   "metadata": {
    "tags": []
   },
   "source": [
    "##### Exercício 5"
   ]
  },
  {
   "cell_type": "code",
   "execution_count": 22,
   "id": "0d9df38e-d3c0-4048-81ce-071b59cfdc4a",
   "metadata": {
    "tags": []
   },
   "outputs": [
    {
     "data": {
      "text/plain": [
       "('vermelho', 'azul', 'verde', 'amarelo', 'roxo')"
      ]
     },
     "execution_count": 22,
     "metadata": {},
     "output_type": "execute_result"
    }
   ],
   "source": [
    "cores = (\"vermelho\", \"azul\", \"verde\", \"amarelo\", \"roxo\")\n",
    "cores"
   ]
  },
  {
   "cell_type": "code",
   "execution_count": 23,
   "id": "48eb3bab-14ca-486e-a00b-d6d2970db433",
   "metadata": {
    "tags": []
   },
   "outputs": [
    {
     "data": {
      "text/plain": [
       "'azul'"
      ]
     },
     "execution_count": 23,
     "metadata": {},
     "output_type": "execute_result"
    }
   ],
   "source": [
    "cores[1]"
   ]
  },
  {
   "cell_type": "code",
   "execution_count": 31,
   "id": "2daa965c-732e-49ec-b060-761ac0608cb2",
   "metadata": {
    "tags": []
   },
   "outputs": [
    {
     "name": "stdout",
     "output_type": "stream",
     "text": [
      "False\n",
      "True\n",
      "False\n",
      "False\n"
     ]
    }
   ],
   "source": [
    "for i in range(4):\n",
    "    \n",
    "    if cores[i] == \"azul\":\n",
    "        print(\"True\")\n",
    "    \n",
    "    else: \n",
    "        print(\"False\")"
   ]
  },
  {
   "cell_type": "code",
   "execution_count": 32,
   "id": "ea9d5414-a973-48e4-88ef-2b6d3829b323",
   "metadata": {
    "tags": []
   },
   "outputs": [
    {
     "data": {
      "text/plain": [
       "True"
      ]
     },
     "execution_count": 32,
     "metadata": {},
     "output_type": "execute_result"
    }
   ],
   "source": [
    "\"azul\" in cores"
   ]
  },
  {
   "cell_type": "code",
   "execution_count": null,
   "id": "140e083c-91ed-4584-b8b9-fdec6b65b93d",
   "metadata": {},
   "outputs": [],
   "source": []
  },
  {
   "cell_type": "code",
   "execution_count": null,
   "id": "fa709fe4-fad8-4b2c-8924-c76ff59a31c8",
   "metadata": {},
   "outputs": [],
   "source": []
  },
  {
   "cell_type": "markdown",
   "id": "92323031-fd82-423b-911f-9e945b14f0b6",
   "metadata": {},
   "source": [
    "##### Exercício 6"
   ]
  },
  {
   "cell_type": "code",
   "execution_count": 50,
   "id": "c51985ad-0d43-45e3-b3f0-d25f556ec4f9",
   "metadata": {},
   "outputs": [
    {
     "name": "stdout",
     "output_type": "stream",
     "text": [
      "Digite sua altura (em metros): \n"
     ]
    },
    {
     "name": "stdin",
     "output_type": "stream",
     "text": [
      " 1.71\n"
     ]
    },
    {
     "name": "stdout",
     "output_type": "stream",
     "text": [
      "Digite seu peso (em quilos): \n"
     ]
    },
    {
     "name": "stdin",
     "output_type": "stream",
     "text": [
      " 86\n"
     ]
    },
    {
     "name": "stdout",
     "output_type": "stream",
     "text": [
      "Seu IMC é de: 29.410758865975858\n"
     ]
    }
   ],
   "source": [
    "print (\"Digite sua altura (em metros): \")\n",
    "altura = float(input())\n",
    "print (\"Digite seu peso (em quilos): \")\n",
    "peso = float(input())\n",
    "IMC = peso / (altura**2)\n",
    "print (\"Seu IMC é de:\", IMC)"
   ]
  },
  {
   "cell_type": "markdown",
   "id": "cba938bb-d02f-4878-95df-f24c91fe9228",
   "metadata": {},
   "source": [
    "##Exercício 7"
   ]
  },
  {
   "cell_type": "code",
   "execution_count": 68,
   "id": "58d5e936-666f-4df3-afa9-09c7d59d4d57",
   "metadata": {},
   "outputs": [
    {
     "name": "stdout",
     "output_type": "stream",
     "text": [
      "Digite o seu nome completo: \n"
     ]
    },
    {
     "name": "stdin",
     "output_type": "stream",
     "text": [
      " Matheus Sales Inacio da Silva\n"
     ]
    },
    {
     "name": "stdout",
     "output_type": "stream",
     "text": [
      "Olá Matheus. Seja bem-vindo(a)\n"
     ]
    }
   ],
   "source": [
    "print (\"Digite o seu nome completo: \")\n",
    "nome = input()\n",
    "lista_nome = nome.split()\n",
    "print (\"Olá {a}. Seja bem-vindo(a)\".format (a = lista_nome[0]))"
   ]
  },
  {
   "cell_type": "markdown",
   "id": "78282f0e-f372-4cdc-a680-2cd64d9131f6",
   "metadata": {},
   "source": [
    "##Exercício 8"
   ]
  },
  {
   "cell_type": "code",
   "execution_count": 7,
   "id": "bbe979b1-be39-406b-86bf-9231477d6978",
   "metadata": {},
   "outputs": [
    {
     "name": "stdout",
     "output_type": "stream",
     "text": [
      "Digite o seu email: \n"
     ]
    },
    {
     "name": "stdin",
     "output_type": "stream",
     "text": [
      " matheusinacio325@gmail.com\n"
     ]
    },
    {
     "name": "stdout",
     "output_type": "stream",
     "text": [
      "Domínio do email informado: gmail.com\n"
     ]
    }
   ],
   "source": [
    "print (\"Digite o seu email: \")\n",
    "email = input()\n",
    "lista_email = email.split('@')\n",
    "print (\"Domínio do email informado:\", lista_email[1])"
   ]
  },
  {
   "cell_type": "code",
   "execution_count": null,
   "id": "5fe95756-d5b7-424e-8d48-6b22af4dde00",
   "metadata": {},
   "outputs": [],
   "source": []
  },
  {
   "cell_type": "code",
   "execution_count": null,
   "id": "716b8fcf-d0b6-4099-a683-dcfc0733d752",
   "metadata": {},
   "outputs": [],
   "source": []
  },
  {
   "cell_type": "code",
   "execution_count": null,
   "id": "77278061-a380-4475-b5b0-3bedd8a7f2a4",
   "metadata": {},
   "outputs": [],
   "source": []
  },
  {
   "cell_type": "code",
   "execution_count": null,
   "id": "3695f685-7fb1-4cb9-a183-fa3880c2ac5c",
   "metadata": {},
   "outputs": [],
   "source": []
  },
  {
   "cell_type": "code",
   "execution_count": null,
   "id": "d3bfa111-f46f-401c-a696-bbf46fac965b",
   "metadata": {},
   "outputs": [],
   "source": []
  },
  {
   "cell_type": "code",
   "execution_count": null,
   "id": "827bce28-d4ab-4bba-8a33-1c8476b29978",
   "metadata": {},
   "outputs": [],
   "source": []
  }
 ],
 "metadata": {
  "kernelspec": {
   "display_name": "Python 3 (ipykernel)",
   "language": "python",
   "name": "python3"
  },
  "language_info": {
   "codemirror_mode": {
    "name": "ipython",
    "version": 3
   },
   "file_extension": ".py",
   "mimetype": "text/x-python",
   "name": "python",
   "nbconvert_exporter": "python",
   "pygments_lexer": "ipython3",
   "version": "3.11.5"
  }
 },
 "nbformat": 4,
 "nbformat_minor": 5
}
